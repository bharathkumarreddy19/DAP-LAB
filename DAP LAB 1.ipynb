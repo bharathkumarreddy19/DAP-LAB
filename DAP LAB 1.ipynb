{
 "cells": [
  {
   "cell_type": "code",
   "execution_count": 1,
   "metadata": {},
   "outputs": [
    {
     "name": "stdout",
     "output_type": "stream",
     "text": [
      "Select operation.\n",
      "1.Add\n",
      "2.Subtract\n",
      "3.Multiply\n",
      "4.Divide\n",
      "5.Square of each number\n",
      "6.Power of x and y\n",
      "7.Square root of x and y\n",
      "8.Root of x and y\n",
      "Enter choice(1/2/3/4/5/6/7/8): 2\n",
      "Enter first number: 22\n",
      "Enter second number: 2\n",
      "22.0 - 2.0 = 20.0\n"
     ]
    }
   ],
   "source": [
    "import math\n",
    "def add(x, y):\n",
    "    return x + y\n",
    "\n",
    "def subtract(x, y):\n",
    "    return x - y\n",
    "\n",
    "def multiply(x, y):\n",
    "    return x * y\n",
    "\n",
    "def divide(x, y):\n",
    "    return x / y\n",
    "\n",
    "def square(x,y):\n",
    "    return x * x, y * y\n",
    "\n",
    "def power(x,y):\n",
    "    return pow(x,y)\n",
    "\n",
    "def squareroot(x,y):\n",
    "    return math.sqrt(x), math.sqrt(y)\n",
    "\n",
    "def root(x,y):\n",
    "    return pow(x,1/y)\n",
    "\n",
    "print(\"Select operation.\")\n",
    "print(\"1.Add\")\n",
    "print(\"2.Subtract\")\n",
    "print(\"3.Multiply\")\n",
    "print(\"4.Divide\")\n",
    "print(\"5.Square of each number\")\n",
    "print(\"6.Power of x and y\")\n",
    "print(\"7.Square root of x and y\")\n",
    "print(\"8.Root of x and y\")\n",
    "\n",
    "\n",
    "while True:\n",
    "\n",
    "    choice = input(\"Enter choice(1/2/3/4/5/6/7/8): \")\n",
    "\n",
    "\n",
    "    if choice in ('1', '2', '3', '4', '5', '6', '7', '8'):\n",
    "        num1 = float(input(\"Enter first number: \"))\n",
    "        num2 = float(input(\"Enter second number: \"))\n",
    "\n",
    "        if choice == '1':\n",
    "            print(num1, \"+\", num2, \"=\", add(num1, num2))\n",
    "\n",
    "        elif choice == '2':\n",
    "            print(num1, \"-\", num2, \"=\", subtract(num1, num2))\n",
    "\n",
    "        elif choice == '3':\n",
    "            print(num1, \"*\", num2, \"=\", multiply(num1, num2))\n",
    "\n",
    "        elif choice == '4':\n",
    "            print(num1, \"/\", num2, \"=\", divide(num1, num2))\n",
    "            \n",
    "        elif choice == '5':\n",
    "            print(num1, \",\", num2, \"=\", square(num1,num2))\n",
    "            \n",
    "        elif choice == '6':\n",
    "            print(num1, \"^\", num2, \"=\", power(num1,num2))\n",
    "            \n",
    "        elif choice == '7':\n",
    "            print(num1, num2, \"=\", squareroot(num1,num2))\n",
    "        \n",
    "        elif choice == '8':\n",
    "            print(num1, \",\", num2, \"=\", root(num1,num2))\n",
    "        break\n",
    "    else:\n",
    "        print(\"Invalid Input\")"
   ]
  },
  {
   "cell_type": "markdown",
   "metadata": {},
   "source": []
  }
 ],
 "metadata": {
  "kernelspec": {
   "display_name": "Python 3",
   "language": "python",
   "name": "python3"
  },
  "language_info": {
   "codemirror_mode": {
    "name": "ipython",
    "version": 3
   },
   "file_extension": ".py",
   "mimetype": "text/x-python",
   "name": "python",
   "nbconvert_exporter": "python",
   "pygments_lexer": "ipython3",
   "version": "3.7.4"
  }
 },
 "nbformat": 4,
 "nbformat_minor": 2
}
