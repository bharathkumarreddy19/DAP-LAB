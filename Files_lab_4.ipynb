{
  "nbformat": 4,
  "nbformat_minor": 0,
  "metadata": {
    "colab": {
      "name": "Files lab 4.ipynb",
      "provenance": [],
      "collapsed_sections": []
    },
    "kernelspec": {
      "name": "python3",
      "display_name": "Python 3"
    },
    "language_info": {
      "name": "python"
    }
  },
  "cells": [
    {
      "cell_type": "code",
      "metadata": {
        "colab": {
          "base_uri": "https://localhost:8080/"
        },
        "id": "njcJkeiK1vzC",
        "outputId": "2eb42085-1fcc-41e5-cfa2-762442f27fa4"
      },
      "source": [
        "print(\"Python is the best language for data science,\", \"isn't it?\")"
      ],
      "execution_count": 1,
      "outputs": [
        {
          "output_type": "stream",
          "name": "stdout",
          "text": [
            "Python is the best language for data science, isn't it?\n"
          ]
        }
      ]
    },
    {
      "cell_type": "code",
      "metadata": {
        "colab": {
          "base_uri": "https://localhost:8080/"
        },
        "id": "XfNcthLe2In0",
        "outputId": "a283bdb7-a820-4d00-e1e6-43fdb7898988"
      },
      "source": [
        "str = input(\"Enter your input: \")\n",
        "print(\"Received input is: \", str)"
      ],
      "execution_count": 2,
      "outputs": [
        {
          "output_type": "stream",
          "name": "stdout",
          "text": [
            "Enter your input: bharath\n",
            "Received input is:  bharath\n"
          ]
        }
      ]
    },
    {
      "cell_type": "code",
      "metadata": {
        "colab": {
          "base_uri": "https://localhost:8080/"
        },
        "id": "z9lfsCYW2IqN",
        "outputId": "d4584755-ddbc-482b-c373-a7c40d59fca9"
      },
      "source": [
        "fo = open(\"/content/new 1.txt\", \"a\")\n",
        "fo.write(\"kumar\")\n",
        "fo.close()\n",
        "\n",
        "\n",
        "fo = open(\"/content/new 1.txt\",\"r\")\n",
        "print(fo.read())"
      ],
      "execution_count": 3,
      "outputs": [
        {
          "output_type": "stream",
          "name": "stdout",
          "text": [
            "bharath kumar reddykumar\n"
          ]
        }
      ]
    },
    {
      "cell_type": "code",
      "metadata": {
        "colab": {
          "base_uri": "https://localhost:8080/"
        },
        "id": "y5zVueHI2ItA",
        "outputId": "e9eb04ba-b1db-45ff-943e-2a6396633e83"
      },
      "source": [
        "# Open a file\n",
        "fo = open(\"/content/new 1.txt\", \"wb\")\n",
        "print (\"Name of the file: \", fo.name)\n",
        "\n",
        "# Close opend file\n",
        "fo.close()"
      ],
      "execution_count": 4,
      "outputs": [
        {
          "output_type": "stream",
          "name": "stdout",
          "text": [
            "Name of the file:  /content/new 1.txt\n"
          ]
        }
      ]
    },
    {
      "cell_type": "code",
      "metadata": {
        "colab": {
          "base_uri": "https://localhost:8080/"
        },
        "id": "0DNZgc3n2Iva",
        "outputId": "759a3b75-a60c-4a86-e3e9-d6632affd3ac"
      },
      "source": [
        "# Open a file\n",
        "fo = open(\"/content/new 1.txt\", \"r+\")\n",
        "str = fo.read();\n",
        "print (\"Read String is : \", str)\n",
        "# Close opend file\n",
        "fo.close()"
      ],
      "execution_count": 5,
      "outputs": [
        {
          "output_type": "stream",
          "name": "stdout",
          "text": [
            "Read String is :  \n"
          ]
        }
      ]
    },
    {
      "cell_type": "code",
      "metadata": {
        "id": "1b581901",
        "colab": {
          "base_uri": "https://localhost:8080/"
        },
        "outputId": "9f91afa4-794b-4e5d-9401-e921392030b2"
      },
      "source": [
        "fo = open(\"/content/new 1.txt\", \"wb\")\n",
        "print (\"Name of the file: \", fo.name)\n",
        "print (\"Closed or not : \", fo.closed)\n",
        "print (\"Opening mode : \", fo.mode)\n"
      ],
      "execution_count": 6,
      "outputs": [
        {
          "output_type": "stream",
          "name": "stdout",
          "text": [
            "Name of the file:  /content/new 1.txt\n",
            "Closed or not :  False\n",
            "Opening mode :  wb\n"
          ]
        }
      ]
    },
    {
      "cell_type": "code",
      "metadata": {
        "id": "fe626966",
        "colab": {
          "base_uri": "https://localhost:8080/"
        },
        "outputId": "daafa9c1-e6ed-4c30-b9c4-4e496e8aeb6d"
      },
      "source": [
        "# Open a file\n",
        "fo = open(\"/content/new 1.txt\", \"r+\")\n",
        "\n",
        "str = fo.read()\n",
        "print (\"Read String is : \", str) \n",
        "\n",
        "# Check current position\n",
        "position = fo.tell()\n",
        "print (\"Current file position : \", position)\n",
        "\n",
        "# Reposition pointer at the beginning once again\n",
        "position = fo.seek(1, 0);\n",
        "str = fo.read(7)\n",
        "print (\"Again read String is : \", str)\n",
        "\n",
        "ptr=fo.seek(0,1)\n",
        "str1=fo.read(3)\n",
        "print(\"my new string= \", str1)\n",
        "\n",
        "# Close opened file\n",
        "fo.close()"
      ],
      "execution_count": 7,
      "outputs": [
        {
          "output_type": "stream",
          "name": "stdout",
          "text": [
            "Read String is :  \n",
            "Current file position :  0\n",
            "Again read String is :  \n",
            "my new string=  \n"
          ]
        }
      ]
    },
    {
      "cell_type": "code",
      "metadata": {
        "id": "Q2QyQDBC2IyQ"
      },
      "source": [
        ""
      ],
      "execution_count": 7,
      "outputs": []
    },
    {
      "cell_type": "code",
      "metadata": {
        "id": "L3OQIwds2I0u"
      },
      "source": [
        ""
      ],
      "execution_count": 7,
      "outputs": []
    },
    {
      "cell_type": "code",
      "metadata": {
        "id": "FJgWEbRW2I3T"
      },
      "source": [
        ""
      ],
      "execution_count": 7,
      "outputs": []
    },
    {
      "cell_type": "code",
      "metadata": {
        "id": "_VDEe0r82I6r"
      },
      "source": [
        ""
      ],
      "execution_count": 7,
      "outputs": []
    }
  ]
}