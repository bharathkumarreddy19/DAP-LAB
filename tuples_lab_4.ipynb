{
  "nbformat": 4,
  "nbformat_minor": 0,
  "metadata": {
    "colab": {
      "name": "tuples lab 4.ipynb",
      "provenance": [],
      "collapsed_sections": []
    },
    "kernelspec": {
      "name": "python3",
      "display_name": "Python 3"
    },
    "language_info": {
      "name": "python"
    }
  },
  "cells": [
    {
      "cell_type": "code",
      "metadata": {
        "colab": {
          "base_uri": "https://localhost:8080/"
        },
        "id": "QFN8MB5f_h4q",
        "outputId": "3b889784-38a2-4ec3-8587-89decfd2cd36"
      },
      "source": [
        "tup= ('bharath','kumar','reddy')\n",
        "print(tup)\n",
        "tup1=(1,2,3,4,5,5,6)\n",
        "print(tup1)\n",
        "tup2=\"sudharshan\",\"reddy\"\n",
        "print(tup2)"
      ],
      "execution_count": 2,
      "outputs": [
        {
          "output_type": "stream",
          "name": "stdout",
          "text": [
            "('bharath', 'kumar', 'reddy')\n",
            "(1, 2, 3, 4, 5, 5, 6)\n",
            "('sudharshan', 'reddy')\n"
          ]
        }
      ]
    },
    {
      "cell_type": "code",
      "metadata": {
        "colab": {
          "base_uri": "https://localhost:8080/"
        },
        "id": "9AZDdtuFASyt",
        "outputId": "3d68ed97-7332-44b8-838a-74c7aaa508af"
      },
      "source": [
        "tup1 = ()\n",
        "print(tup1)"
      ],
      "execution_count": 3,
      "outputs": [
        {
          "output_type": "stream",
          "name": "stdout",
          "text": [
            "()\n"
          ]
        }
      ]
    },
    {
      "cell_type": "code",
      "metadata": {
        "colab": {
          "base_uri": "https://localhost:8080/"
        },
        "id": "AZA1OYsnAV0s",
        "outputId": "62da248b-548b-4591-e813-f565d4b48f3c"
      },
      "source": [
        "tup1 = ('reddy')\n",
        "print(tup1)"
      ],
      "execution_count": 4,
      "outputs": [
        {
          "output_type": "stream",
          "name": "stdout",
          "text": [
            "reddy\n"
          ]
        }
      ]
    },
    {
      "cell_type": "code",
      "metadata": {
        "colab": {
          "base_uri": "https://localhost:8080/"
        },
        "id": "nB6spAQ2AaAV",
        "outputId": "c97cc634-fba0-4c5c-9bf4-14ea2048c7e1"
      },
      "source": [
        "tup= ('bharath','kumar','reddy','sudharshan','reddy')\n",
        "print(tup[0])\n",
        "print(tup[2])\n",
        "print(tup[2:5])"
      ],
      "execution_count": 5,
      "outputs": [
        {
          "output_type": "stream",
          "name": "stdout",
          "text": [
            "bharath\n",
            "reddy\n",
            "('reddy', 'sudharshan', 'reddy')\n"
          ]
        }
      ]
    },
    {
      "cell_type": "code",
      "metadata": {
        "colab": {
          "base_uri": "https://localhost:8080/",
          "height": 212
        },
        "id": "h7SGx-3RAkUK",
        "outputId": "eefe904a-68ad-4fba-d616-388cea2107d7"
      },
      "source": [
        "tup1= ('bharath','kumar','reddy','sudharshan','reddy')\n",
        "\n",
        "print(tup1)\n",
        "\n",
        "del(tup1)\n",
        "print(tup1)"
      ],
      "execution_count": 6,
      "outputs": [
        {
          "output_type": "stream",
          "name": "stdout",
          "text": [
            "('bharath', 'kumar', 'reddy', 'sudharshan', 'reddy')\n"
          ]
        },
        {
          "output_type": "error",
          "ename": "NameError",
          "evalue": "ignored",
          "traceback": [
            "\u001b[0;31m---------------------------------------------------------------------------\u001b[0m",
            "\u001b[0;31mNameError\u001b[0m                                 Traceback (most recent call last)",
            "\u001b[0;32m<ipython-input-6-5e8efb8a6969>\u001b[0m in \u001b[0;36m<module>\u001b[0;34m()\u001b[0m\n\u001b[1;32m      4\u001b[0m \u001b[0;34m\u001b[0m\u001b[0m\n\u001b[1;32m      5\u001b[0m \u001b[0;32mdel\u001b[0m\u001b[0;34m(\u001b[0m\u001b[0mtup1\u001b[0m\u001b[0;34m)\u001b[0m\u001b[0;34m\u001b[0m\u001b[0;34m\u001b[0m\u001b[0m\n\u001b[0;32m----> 6\u001b[0;31m \u001b[0mprint\u001b[0m\u001b[0;34m(\u001b[0m\u001b[0mtup1\u001b[0m\u001b[0;34m)\u001b[0m\u001b[0;34m\u001b[0m\u001b[0;34m\u001b[0m\u001b[0m\n\u001b[0m",
            "\u001b[0;31mNameError\u001b[0m: name 'tup1' is not defined"
          ]
        }
      ]
    },
    {
      "cell_type": "code",
      "metadata": {
        "colab": {
          "base_uri": "https://localhost:8080/"
        },
        "id": "c41lc-hnAszQ",
        "outputId": "52739c4c-c071-49d8-cee6-b2af025bf7b8"
      },
      "source": [
        "tup1= ('bharath','kumar','reddy','sudharshan','reddy')\n",
        "\n",
        "\n",
        "print(tup1)\n",
        "tup2= ('bhagya','iman','anjali')\n",
        "print(tup2)\n",
        "\n",
        "\n",
        "tup3=tup1+tup2\n",
        "print(tup3)"
      ],
      "execution_count": 7,
      "outputs": [
        {
          "output_type": "stream",
          "name": "stdout",
          "text": [
            "('bharath', 'kumar', 'reddy', 'sudharshan', 'reddy')\n",
            "('bhagya', 'iman', 'anjali')\n",
            "('bharath', 'kumar', 'reddy', 'sudharshan', 'reddy', 'bhagya', 'iman', 'anjali')\n"
          ]
        }
      ]
    },
    {
      "cell_type": "code",
      "metadata": {
        "colab": {
          "base_uri": "https://localhost:8080/",
          "height": 246
        },
        "id": "7kz0VOJ0A5P9",
        "outputId": "b5d929e9-72b8-4bdd-a885-0d5f918b57af"
      },
      "source": [
        "tup1= ('bharath','kumar','reddy','sudharshan','reddy')\n",
        "\n",
        "\n",
        "print(tup1)\n",
        "\n",
        "print(\"value at 3rd loc= \",tup1[3])\n",
        "\n",
        "tup1[3]=\"bhagya\" #not allowed\n",
        "print(\"UPDATED value at 3rd loc= \",tup1[3])"
      ],
      "execution_count": 8,
      "outputs": [
        {
          "output_type": "stream",
          "name": "stdout",
          "text": [
            "('bharath', 'kumar', 'reddy', 'sudharshan', 'reddy')\n",
            "value at 3rd loc=  sudharshan\n"
          ]
        },
        {
          "output_type": "error",
          "ename": "TypeError",
          "evalue": "ignored",
          "traceback": [
            "\u001b[0;31m---------------------------------------------------------------------------\u001b[0m",
            "\u001b[0;31mTypeError\u001b[0m                                 Traceback (most recent call last)",
            "\u001b[0;32m<ipython-input-8-3326530dd561>\u001b[0m in \u001b[0;36m<module>\u001b[0;34m()\u001b[0m\n\u001b[1;32m      6\u001b[0m \u001b[0mprint\u001b[0m\u001b[0;34m(\u001b[0m\u001b[0;34m\"value at 3rd loc= \"\u001b[0m\u001b[0;34m,\u001b[0m\u001b[0mtup1\u001b[0m\u001b[0;34m[\u001b[0m\u001b[0;36m3\u001b[0m\u001b[0;34m]\u001b[0m\u001b[0;34m)\u001b[0m\u001b[0;34m\u001b[0m\u001b[0;34m\u001b[0m\u001b[0m\n\u001b[1;32m      7\u001b[0m \u001b[0;34m\u001b[0m\u001b[0m\n\u001b[0;32m----> 8\u001b[0;31m \u001b[0mtup1\u001b[0m\u001b[0;34m[\u001b[0m\u001b[0;36m3\u001b[0m\u001b[0;34m]\u001b[0m\u001b[0;34m=\u001b[0m\u001b[0;34m\"bhagya\"\u001b[0m \u001b[0;31m#not allowed\u001b[0m\u001b[0;34m\u001b[0m\u001b[0;34m\u001b[0m\u001b[0m\n\u001b[0m\u001b[1;32m      9\u001b[0m \u001b[0mprint\u001b[0m\u001b[0;34m(\u001b[0m\u001b[0;34m\"UPDATED value at 3rd loc= \"\u001b[0m\u001b[0;34m,\u001b[0m\u001b[0mtup1\u001b[0m\u001b[0;34m[\u001b[0m\u001b[0;36m3\u001b[0m\u001b[0;34m]\u001b[0m\u001b[0;34m)\u001b[0m\u001b[0;34m\u001b[0m\u001b[0;34m\u001b[0m\u001b[0m\n",
            "\u001b[0;31mTypeError\u001b[0m: 'tuple' object does not support item assignment"
          ]
        }
      ]
    },
    {
      "cell_type": "code",
      "metadata": {
        "colab": {
          "base_uri": "https://localhost:8080/"
        },
        "id": "XfH6ltVdBE9A",
        "outputId": "07a71162-f0d2-4932-d8a5-aeb93bccc1b5"
      },
      "source": [
        "tup1= ('bharath','kumar','reddy','sudharshan','reddy')\n",
        "\n",
        "print(tup1)\n",
        "tup2= ('bhagya','iman','anjali')\n",
        "\n",
        "print(tup2)\n",
        "a=len(tup1)\n",
        "b=len(tup2)\n",
        "print(a)\n",
        "print(b)\n",
        "\n",
        "print(len(tup1))\n"
      ],
      "execution_count": 9,
      "outputs": [
        {
          "output_type": "stream",
          "name": "stdout",
          "text": [
            "('bharath', 'kumar', 'reddy', 'sudharshan', 'reddy')\n",
            "('bhagya', 'iman', 'anjali')\n",
            "5\n",
            "3\n",
            "5\n"
          ]
        }
      ]
    },
    {
      "cell_type": "code",
      "metadata": {
        "colab": {
          "base_uri": "https://localhost:8080/"
        },
        "id": "PYYCT-CmBPoN",
        "outputId": "27a81508-5ddc-4f83-874e-accd959ddbf6"
      },
      "source": [
        "tup1= ('bharath','kumar','reddy','sudharshan','reddy')\n",
        "\n",
        "print(tup1)\n",
        "tup2= ('bhagya','iman','anjali')\n",
        "\n",
        "print(tup2)\n",
        "\n",
        "\n",
        "print(max(tup1))"
      ],
      "execution_count": 10,
      "outputs": [
        {
          "output_type": "stream",
          "name": "stdout",
          "text": [
            "('bharath', 'kumar', 'reddy', 'sudharshan', 'reddy')\n",
            "('bhagya', 'iman', 'anjali')\n",
            "sudharshan\n"
          ]
        }
      ]
    }
  ]
}