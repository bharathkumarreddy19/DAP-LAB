{
  "nbformat": 4,
  "nbformat_minor": 0,
  "metadata": {
    "colab": {
      "name": "dictionary lab 4.ipynb",
      "provenance": [],
      "collapsed_sections": []
    },
    "kernelspec": {
      "name": "python3",
      "display_name": "Python 3"
    },
    "language_info": {
      "name": "python"
    }
  },
  "cells": [
    {
      "cell_type": "code",
      "metadata": {
        "colab": {
          "base_uri": "https://localhost:8080/"
        },
        "id": "wLaPT4yo7nU8",
        "outputId": "b0d7ad65-3818-46ec-9b78-9fcd0e288032"
      },
      "source": [
        "dict={'name':'bharath','designation':'student','qual':'btech','univ':'cmr'}\n",
        "print(dict['name'])\n",
        "\n",
        "\n",
        "print(dict['qual'])"
      ],
      "execution_count": 3,
      "outputs": [
        {
          "output_type": "stream",
          "name": "stdout",
          "text": [
            "bharath\n",
            "btech\n"
          ]
        }
      ]
    },
    {
      "cell_type": "code",
      "metadata": {
        "colab": {
          "base_uri": "https://localhost:8080/"
        },
        "id": "Ua_2nFYe71df",
        "outputId": "494b5d29-4cf6-4652-8050-1da121efe561"
      },
      "source": [
        "dict={'name':'bharath','designation':'student','qual':'btech','univ':'cmr'}\n",
        "\n",
        "dict['name']='kumar'\n",
        "\n",
        "print(dict['name'])\n",
        "\n",
        "dict['class']='cse7sem'\n",
        "\n",
        "print(dict['class'])"
      ],
      "execution_count": 4,
      "outputs": [
        {
          "output_type": "stream",
          "name": "stdout",
          "text": [
            "kumar\n",
            "cse7sem\n"
          ]
        }
      ]
    },
    {
      "cell_type": "code",
      "metadata": {
        "id": "ODUMSr-Z71f-"
      },
      "source": [
        "dict={'name':'shabnam','designation':'student','qual':'phd','univ':'cmr'}\n",
        "\n",
        "\n",
        "del dict['designation']\n",
        "\n",
        "#print(dict['designation'])\n",
        "\n",
        "dict.clear()\n",
        "\n",
        "#print(dict['name'])\n",
        "\n",
        "del dict"
      ],
      "execution_count": 5,
      "outputs": []
    },
    {
      "cell_type": "code",
      "metadata": {
        "colab": {
          "base_uri": "https://localhost:8080/"
        },
        "id": "Iyxwnz2e71iw",
        "outputId": "686660cd-2ea0-4b38-e956-c935f6824f3d"
      },
      "source": [
        "dict={'name':'bharath','designation':'student','qual':'btech','univ':'cmr', 'name':'kumar'}\n",
        "\n",
        "\n",
        "print(dict['name'])\n",
        "\n",
        "print(len(dict))"
      ],
      "execution_count": 6,
      "outputs": [
        {
          "output_type": "stream",
          "name": "stdout",
          "text": [
            "kumar\n",
            "4\n"
          ]
        }
      ]
    },
    {
      "cell_type": "code",
      "metadata": {
        "colab": {
          "base_uri": "https://localhost:8080/"
        },
        "id": "iZDrh-mT71lz",
        "outputId": "556d98c6-5912-4ccb-8b72-bf41455fb360"
      },
      "source": [
        "dict={'name':'bharath','designation':'student','qual':'btech','univ':'cmr', 'name':'kumar'}\n",
        "\n",
        "\n",
        "print(dict.values())\n",
        "\n",
        "print(dict.items())\n",
        "\n",
        "print(dict.keys())"
      ],
      "execution_count": 7,
      "outputs": [
        {
          "output_type": "stream",
          "name": "stdout",
          "text": [
            "dict_values(['kumar', 'student', 'btech', 'cmr'])\n",
            "dict_items([('name', 'kumar'), ('designation', 'student'), ('qual', 'btech'), ('univ', 'cmr')])\n",
            "dict_keys(['name', 'designation', 'qual', 'univ'])\n"
          ]
        }
      ]
    },
    {
      "cell_type": "code",
      "metadata": {
        "colab": {
          "base_uri": "https://localhost:8080/"
        },
        "id": "LKy_YP3l71oG",
        "outputId": "3e4224bc-d4de-40b3-a9e1-c959447d5074"
      },
      "source": [
        "dict={'name':'bharath','designation':'student','qual':'btech','univ':'cmr', 'name':'kumar'}\n",
        "\n",
        "print(dict['name'])\n",
        "\n",
        "print(dict.get('edu',\"nothing\"))\n"
      ],
      "execution_count": 8,
      "outputs": [
        {
          "output_type": "stream",
          "name": "stdout",
          "text": [
            "kumar\n",
            "nothing\n"
          ]
        }
      ]
    },
    {
      "cell_type": "code",
      "metadata": {
        "colab": {
          "base_uri": "https://localhost:8080/"
        },
        "id": "g0MUfPzW71q8",
        "outputId": "6ed5b510-0ab7-4a57-b197-c502da20131b"
      },
      "source": [
        "dict={'name':'bharath','designation':'student','qual':'btech','univ':'cmr', 'name':'kumar'}\n",
        "\n",
        "dict2=dict.copy()\n",
        "\n",
        "print(dict2['name'])\n",
        "\n",
        "print(len(dict2))"
      ],
      "execution_count": 9,
      "outputs": [
        {
          "output_type": "stream",
          "name": "stdout",
          "text": [
            "kumar\n",
            "4\n"
          ]
        }
      ]
    },
    {
      "cell_type": "code",
      "metadata": {
        "colab": {
          "base_uri": "https://localhost:8080/"
        },
        "id": "8ugx-AdQ71uf",
        "outputId": "4222cfeb-54b7-45c9-bebe-eb53f3ada949"
      },
      "source": [
        "dict={'name':'bharath','designation':'student','qual':'btech','univ':'cmr', 'name':'kumar'}\n",
        "\n",
        "\n",
        "dict2={'edu':'btech-mtech','students':'7sem'}\n",
        "\n",
        "print(dict)\n",
        "print(dict2)\n",
        "\n",
        "dict.update(dict2)\n",
        "\n",
        "print(dict)"
      ],
      "execution_count": 10,
      "outputs": [
        {
          "output_type": "stream",
          "name": "stdout",
          "text": [
            "{'name': 'kumar', 'designation': 'student', 'qual': 'btech', 'univ': 'cmr'}\n",
            "{'edu': 'btech-mtech', 'students': '7sem'}\n",
            "{'name': 'kumar', 'designation': 'student', 'qual': 'btech', 'univ': 'cmr', 'edu': 'btech-mtech', 'students': '7sem'}\n"
          ]
        }
      ]
    }
  ]
}